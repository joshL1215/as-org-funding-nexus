{
 "cells": [
  {
   "cell_type": "markdown",
   "id": "e9e04061-1419-4646-ab55-de140f715ab4",
   "metadata": {},
   "source": [
    "# Data Extraction from Meeting Minute PDFs\n",
    "\n",
    "PDFs we are extracting from are UCSB AS F&B Meeting Minutes, publicly available at [AS F&B Committee Minutes](https://asfb.as.ucsb.edu/minutes2018-2019/)\n",
    "We are using Fall 2024 and Winter 2025 quarter minutes."
   ]
  },
  {
   "cell_type": "code",
   "execution_count": 1,
   "id": "07c89e72-df4a-49a9-9e5b-32c96996bb84",
   "metadata": {},
   "outputs": [],
   "source": [
    "import pdfplumber\n",
    "import re\n",
    "import pandas as pd\n",
    "import logging\n",
    "import rapidfuzz"
   ]
  },
  {
   "cell_type": "markdown",
   "id": "20126f9c-3cea-4a29-b4e1-cb543bc6f948",
   "metadata": {},
   "source": [
    "## Motion Extraction\n",
    "\n",
    "Converting PDFs to text and grabbing all of the motions passed by the committee"
   ]
  },
  {
   "cell_type": "code",
   "execution_count": 2,
   "id": "57f3f513-517e-43e3-bbfe-17c85df8bd83",
   "metadata": {},
   "outputs": [
    {
     "name": "stdout",
     "output_type": "stream",
     "text": [
      "RECORDED:Debate funded 5,000\n",
      "RECORDED:Untitled Dance Company funded 1,225\n",
      "RECORDED:Sigma Alpha Zeta Multicultural funded 3,200\n",
      "RECORDED:Association for Computing Machinery funded 537.50\n",
      "RECORDED:Model United Nations funded 5,000\n",
      "RECORDED:UCSBreakin' funded 850\n",
      "RECORDED:Pre-Law Society funded 250\n",
      "RECORDED:Pre-Law Society funded -250\n",
      "RECORDED:Mock Trial funded 4,728\n",
      "RECORDED:Moot Court funded 4,935.32\n",
      "RECORDED:Undergraduate Diversity and Inclusion in Physics funded 257.28\n",
      "RECORDED:Pre-Law Society funded 590\n",
      "RECORDED:Sociology Association funded 82\n",
      "RECORDED:Association for Computing Machinery funded 140\n",
      "RECORDED:REALITY funded 250\n",
      "RECORDED:Cube Club funded 6,051.90\n",
      "RECORDED:gauchoCatholic funded 8,145.50\n",
      "RECORDED:Finance Connection funded 2,170.64\n",
      "RECORDED:Gaucho Gaming funded 3,603.86\n",
      "RECORDED:Laughology funded 4,650\n",
      "RECORDED:Taara funded 825\n",
      "RECORDED:Society of Cosmetic Chemist:  Chapter funded 200\n",
      "RECORDED:Collegiate Chapter of SAE International AKA Gaucho Racing funded 14,869\n",
      "RECORDED:Collaborate Student Support Center funded 60\n"
     ]
    }
   ],
   "source": [
    "# Ignore non-critical warnings from pdfminer through pdfplumber\n",
    "logging.getLogger(\"pdfminer\").setLevel(logging.ERROR)\n",
    "\n",
    "# Folder of pdfs, from UCSB AS F&B Meeting Minutes, publicly available, see above\n",
    "pdf_folder = \"meeting-mins-pdfs/\"\n",
    "\n",
    "with open(\"orgs-ucsb.txt\", \"r\") as all_orgs_text:\n",
    "    all_orgs = [line.strip() for line in all_orgs_text]\n",
    "    \n",
    "# This function will convert pdf pages to text holding relevant motions (motions to fund will only be found after the action items header)\n",
    "def motions_text_from_pdf(pdf_path):\n",
    "\n",
    "    collecting = False\n",
    "    out = ''\n",
    "    \n",
    "    with pdfplumber.open(pdf_path) as pdf:\n",
    "         \n",
    "        for page in pdf.pages: \n",
    "            \n",
    "            text = page.extract_text()\n",
    "\n",
    "            if not collecting:\n",
    "\n",
    "                if \"action items\" in text.lower():\n",
    "                    collecting = True\n",
    "                    \n",
    "            if collecting:\n",
    "                out += text\n",
    "                \n",
    "        return find_motions(out)\n",
    "\n",
    "# Looks for and returns list of motions found in the text\n",
    "def find_motions(text):\n",
    "\n",
    "    pattern = r\"motion language:(.*?)action: passed\"\n",
    "    motions = re.findall(pattern, text.replace(\"\\n\", \" \").lower(), flags=re.DOTALL)\n",
    "    return motions\n",
    "    \n",
    "\n",
    "# Parses motions, takes normalized club name and dollar amount\n",
    "def find_motion_details(motions):\n",
    "\n",
    "    for motion in motions:\n",
    "        \n",
    "        pattern = r\"motion to\\s+(.*?)\\s*\\$\\s*([\\d,]+(?:\\.\\d{2})?)\"\n",
    "\n",
    "        details = re.findall(pattern, motion.lower())\n",
    "\n",
    "        if not details or \"reaffirm\" in motion or \"forward\" in motion or \"table\" in motion:\n",
    "            continue\n",
    "\n",
    "        raw_org_name, amount = details[0]\n",
    "\n",
    "        # Cleans most of the words that confuse fuzzy matching\n",
    "        cleaner_org_name = re.sub(r\"\\b( ucsb|fully fund|partially fund|strike| at|motion|fund| to| of| the )\\b\", \"\",\n",
    "                              raw_org_name, flags=re.IGNORECASE).strip()\n",
    "        \n",
    "        # A motion to strike means we will want to undo an existing funding motion \n",
    "        if 'strike' in motion.lower():\n",
    "\n",
    "            amount = '-' + amount\n",
    "\n",
    "        _, _, org_index = rapidfuzz.process.extract(cleaner_org_name, [org.lower() for org in all_orgs],\n",
    "                                            scorer=rapidfuzz.fuzz.ratio,\n",
    "                                            score_cutoff=50,\n",
    "                                            limit = 1)[0]\n",
    "\n",
    "        print(\"RECORDED:\" + all_orgs[org_index] + ' funded ' + amount)\n",
    "        \n",
    "\n",
    "    \n",
    "find_motion_details(motions_text_from_pdf(r'meeting-mins-pdfs/10.07.2024 Finance Committee Meeting Minutes.pdf'))"
   ]
  }
 ],
 "metadata": {
  "kernelspec": {
   "display_name": "Python (analysis_venv)",
   "language": "python",
   "name": "analysis_venv"
  },
  "language_info": {
   "codemirror_mode": {
    "name": "ipython",
    "version": 3
   },
   "file_extension": ".py",
   "mimetype": "text/x-python",
   "name": "python",
   "nbconvert_exporter": "python",
   "pygments_lexer": "ipython3",
   "version": "3.13.3"
  }
 },
 "nbformat": 4,
 "nbformat_minor": 5
}
