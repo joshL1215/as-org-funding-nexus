{
 "cells": [
  {
   "cell_type": "markdown",
   "id": "e9e04061-1419-4646-ab55-de140f715ab4",
   "metadata": {},
   "source": [
    "# Data Extraction from Meeting Minute PDFs\n",
    "\n",
    "PDFs we are extracting from are UCSB AS F&B Meeting Minutes, publicly available at [AS F&B Committee Minutes](https://asfb.as.ucsb.edu/minutes2018-2019/) -- We are using Fall 2024 and Winter 2025 quarter minutes."
   ]
  },
  {
   "cell_type": "code",
   "execution_count": 1,
   "id": "07c89e72-df4a-49a9-9e5b-32c96996bb84",
   "metadata": {},
   "outputs": [],
   "source": [
    "import pdfplumber\n",
    "import re\n",
    "import pandas as pd\n",
    "import logging"
   ]
  },
  {
   "cell_type": "markdown",
   "id": "20126f9c-3cea-4a29-b4e1-cb543bc6f948",
   "metadata": {},
   "source": [
    "## Motion Extraction\n",
    "\n",
    "Converting PDFs to text and grabbing all of the motions passed by the committee"
   ]
  },
  {
   "cell_type": "code",
   "execution_count": 5,
   "id": "57f3f513-517e-43e3-bbfe-17c85df8bd83",
   "metadata": {},
   "outputs": [
    {
     "name": "stdout",
     "output_type": "stream",
     "text": [
      "[': motion to fully fund debate team at ucsb $5,000 from academic\\nteams\\n', ': motion to fully fund united dance company $1,225 from seal fall\\nquarter fund.', ': motion to fully fund sigma alpha zeta $3,200 from culture and\\ngrad\\n', ': motion to table korean american student association for one\\nweek.\\n', ': motion to table speech forensics at ucsb for one week.\\n', ': motion to fully fund association of computing machinery at ucsb\\n$537.50 from seal fall quarter fund.\\n', ': motion to fully fund ucsb model united nations $5,000 from\\nacademic teams\\n', ': motion to fully fund ucsbreakin’ $850 from seal fall quarter\\nfund.\\n', ': motion to fully fund pre-law society $250 from seal fall quarter fund.\\n', ': motion to strike the motion to fund pre-law society $250 from\\nseal fall quarter fund\\n', ': motion to forward los ingenieros requesting $3,500 to cab for further\\nconsideration\\n', ': motion to fully fund mock trial $4,728 from academic teams\\n', ': motion to reaffirm chabad ucsb request of $839 from fiscal year\\n2023-2024\\n', ': motion to fully fund moot court at ucsb $4,935.32 from academic\\nteams\\n', ': motion to table community affairs board for one week.\\n', ': motion to fully fund undergraduates for diversity and inclusion in\\nphysics $257.28 from seal fall quarter fund.\\n', ': motion to reaffirm collegiate chapter of sae international at ucsb\\nrequest for $16,335.89 from fiscal year 2023-2024\\n', ': motion to fully fund pre-law society (second request) $590 from\\nseal fall quarter fund\\n', ': motion to table chinese students and scholars association for one\\nweek.\\n', ': motion to fully fund sociology association at ucsb $82 from seal\\nfall quarter fund\\n', ': motion to fully fund association for computing machinery at ucsb\\n$140 from seal fall quarter fund\\n', ': motion to fully fund reality ucsb $250 from seal fall quarter\\nfund.\\n', ': motion to partially fund cube club at ucsb $6,051.90 for line\\nitems a(i), b, c, and d from seal fall quarter fund\\n', ': motion to fully fund gaucho catholic $8,145.50 from seal fall\\nquarter fund\\n', ': motion to table taiwanese american student association for one\\nweek.\\n', ': motion to fully fund finance connection $2,170.64 from seal fall\\nquarter fund with a one time exception and stipulation that they give us written\\nconsent to use thir one time exception\\n', ': motion to fully fund gaucho gaming $3,603.86 from seal fall\\nquarter fund\\n', ': motion to reaffirm sigma alpha zeta multicultural sorority, inc. request of\\n$1,239.90 from fiscal year 2023-2024\\n', ': motion to fully fund laughology $4,650 from seal fall quarter\\nfund\\n', ': motion to reaffirm united sorority and fraternity council request\\nof $1,595 from fiscal year 2023-2024\\n', ': motion to accept as program board an exception for t-shirts\\n', ': motion to fully fund ucsb taara $825 from seal fall quarter\\nfund.\\n', ': motion to fully fund society of cosmetic chemists $200 from seal\\nfall quarter fund.\\n', ': motion to table gaucho creative marketing for one week.\\n', ': motion to partially fund collegiate chapter of sae international at\\nucsb $14,869 for line items c, d, and e from seal fall quarter fund\\n', ': motion to fully fund horizons (student support center) $60 from\\nseal fall quarter fund.\\n', ': motion to adjourn the meeting at 6:58pm.\\n']\n"
     ]
    }
   ],
   "source": [
    "# Ignore non-critical warnings from pdfminer through pdfplumber\n",
    "logging.getLogger(\"pdfminer\").setLevel(logging.ERROR)\n",
    "\n",
    "# Folder of pdfs, from UCSB AS F&B Meeting Minutes, publicly available, see above\n",
    "pdf_folder = \"meeting-mins-pdfs/\"\n",
    "\n",
    "# This function will convert pdf pages holding relevant motions into text, then return it in all in one big string\n",
    "def motions_text_from_pdf(pdf_path):\n",
    "\n",
    "    collecting = False\n",
    "    out = ''\n",
    "    \n",
    "    with pdfplumber.open(pdf_path) as pdf:\n",
    "         \n",
    "        for page in pdf.pages: \n",
    "            \n",
    "            text = page.extract_text()\n",
    "\n",
    "            if not collecting:\n",
    "\n",
    "                if \"action items\" in text.lower():\n",
    "                    collecting = True\n",
    "                    \n",
    "            if collecting:\n",
    "                out += text\n",
    "                \n",
    "        return find_motions(out)\n",
    "\n",
    "# Looks for and returns list of  otions found in the text\n",
    "def find_motions(text):\n",
    "\n",
    "    pattern = r\"motion language:(.*?)action: passed\"\n",
    "    motions = re.findall(pattern, text.lower(), flags=re.DOTALL)\n",
    "    return motions\n",
    "    \n",
    "\n",
    "print(motions_text_from_pdf(r'meeting-mins-pdfs/10.07.2024 Finance Committee Meeting Minutes.pdf'))"
   ]
  },
  {
   "cell_type": "code",
   "execution_count": null,
   "id": "3395e7a3-5688-4937-abd7-fc05718b7aa0",
   "metadata": {},
   "outputs": [],
   "source": []
  },
  {
   "cell_type": "code",
   "execution_count": null,
   "id": "912625f9-8f28-4b4e-a2c4-8a80477f12f8",
   "metadata": {},
   "outputs": [],
   "source": []
  }
 ],
 "metadata": {
  "kernelspec": {
   "display_name": "Python 3 (ipykernel)",
   "language": "python",
   "name": "python3"
  },
  "language_info": {
   "codemirror_mode": {
    "name": "ipython",
    "version": 3
   },
   "file_extension": ".py",
   "mimetype": "text/x-python",
   "name": "python",
   "nbconvert_exporter": "python",
   "pygments_lexer": "ipython3",
   "version": "3.13.3"
  }
 },
 "nbformat": 4,
 "nbformat_minor": 5
}
