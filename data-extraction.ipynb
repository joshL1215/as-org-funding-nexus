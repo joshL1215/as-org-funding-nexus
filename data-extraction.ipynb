{
 "cells": [
  {
   "cell_type": "markdown",
   "id": "e9e04061-1419-4646-ab55-de140f715ab4",
   "metadata": {
    "editable": true,
    "slideshow": {
     "slide_type": ""
    },
    "tags": []
   },
   "source": [
    "## Data Extraction and Transformation from Meeting Minute PDFs\n",
    "\n",
    "This is used to extract motion language from meeting minute PDFs to find each instance of club or organization funding from UCSB's Associated Students Finance and Business Committee. The process includes discarding irrelevant motions, normalization of non-uniform organization names, and loading of details into a singular CSV for use on Power BI.\n",
    "\n",
    "PDFs we are extracting from are UCSB AS F&B Meeting Minutes, publicly available at [AS F&B Committee Minutes](https://asfb.as.ucsb.edu/minutes2018-2019/)"
   ]
  },
  {
   "cell_type": "code",
   "execution_count": 1,
   "id": "07c89e72-df4a-49a9-9e5b-32c96996bb84",
   "metadata": {},
   "outputs": [],
   "source": [
    "import re\n",
    "import logging\n",
    "from pathlib import Path\n",
    "\n",
    "import pandas as pd\n",
    "import pdfplumber\n",
    "import rapidfuzz"
   ]
  },
  {
   "cell_type": "code",
   "execution_count": 2,
   "id": "e11cc349-9bb7-4d66-b284-145846670c1d",
   "metadata": {},
   "outputs": [],
   "source": [
    "# Ignore non-critical warnings from pdfminer through pdfplumber\n",
    "logging.getLogger(\"pdfminer\").setLevel(logging.ERROR)\n",
    "\n",
    "# Open file of all organizations as a list\n",
    "with open(\"orgs-ucsb.txt\", \"r\") as all_orgs_text:\n",
    "    all_orgs = [line.strip() for line in all_orgs_text]"
   ]
  },
  {
   "cell_type": "code",
   "execution_count": 3,
   "id": "57f3f513-517e-43e3-bbfe-17c85df8bd83",
   "metadata": {
    "editable": true,
    "slideshow": {
     "slide_type": ""
    },
    "tags": []
   },
   "outputs": [],
   "source": [
    "# This function will convert pdf pages to text holding relevant motions\n",
    "# (motions to fund will only be found after the action items header)\n",
    "def text_from_pdf(pdf_path):\n",
    "\n",
    "    collecting = False\n",
    "    out = ''\n",
    "    \n",
    "    with pdfplumber.open(pdf_path) as pdf:\n",
    "         \n",
    "        for page in pdf.pages: \n",
    "            \n",
    "            text = page.extract_text()\n",
    "\n",
    "            if not collecting:\n",
    "\n",
    "                if \"action items\" in text.lower():\n",
    "                    collecting = True\n",
    "                    \n",
    "            if collecting:\n",
    "                out += text\n",
    "                \n",
    "        return out\n",
    "        \n",
    "\n",
    "# Looks for and returns list of motions found in the text\n",
    "def find_motions(text):\n",
    "    \n",
    "    pattern = r\"motion language:(.*?)action: passed\"\n",
    "    motions = re.findall(pattern, text.replace(\"\\n\", \" \").lower(), flags=re.DOTALL)\n",
    "    \n",
    "    return motions\n",
    "    \n",
    "\n",
    "# Parses motions, takes normalized club name and dollar amount\n",
    "def find_motion_details(motions, date):\n",
    "\n",
    "    motion_details_dict = []\n",
    "    \n",
    "    for motion in motions:\n",
    "        \n",
    "        pattern = r\"motion to\\s+(.*?)\\s*\\$\\s*([\\d,]+(?:\\.\\d{2})?)\"\n",
    "\n",
    "        details = re.findall(pattern, motion.lower())\n",
    "\n",
    "        if not details or any(word in motion for word in [\"affirm\", \"forward\", \"table\", \"allocate\", \"deny\"]):\n",
    "            continue\n",
    "\n",
    "        raw_org_name, amount = details[0]\n",
    "\n",
    "        # Cleans most of the words that confuse fuzzy matching\n",
    "        cleaner_org_name = re.sub(r\"\\b( ucsb|fully fund|partially fund|strike| at|motion|fund| to| of|requesting| for)\\b\", \"\",\n",
    "                              raw_org_name, flags=re.IGNORECASE).strip()\n",
    "        # A motion to strike means we will want to undo an existing funding motion \n",
    "        if 'to strike' in motion.lower():\n",
    "\n",
    "            amount = '-' + amount\n",
    "\n",
    "        _, accuracy, org_index = rapidfuzz.process.extract(cleaner_org_name, [org.lower() for org in all_orgs],\n",
    "                                            scorer=rapidfuzz.fuzz.ratio,\n",
    "                                            limit = 1)[0]\n",
    "\n",
    "        motion_details_dict.append({'Club/Org Name' : all_orgs[org_index],\n",
    "                                   'Non-normalized Name' : cleaner_org_name,\n",
    "                                   'Normalization Accuracy' : accuracy,\n",
    "                                   'Funding' : amount,\n",
    "                                   'Date' : date\n",
    "                                  })\n",
    "        \n",
    "    return(motion_details_dict)"
   ]
  },
  {
   "cell_type": "code",
   "execution_count": null,
   "id": "1b22d83f-36a0-44bf-b853-9e8f7edb1e4a",
   "metadata": {
    "editable": true,
    "slideshow": {
     "slide_type": ""
    },
    "tags": []
   },
   "outputs": [],
   "source": [
    "# Folder of pdfs, from UCSB AS F&B Meeting Minutes, publicly available, see above\n",
    "pdf_folder = \"meeting-mins-pdfs\"\n",
    "\n",
    "all_motions_together = []\n",
    "\n",
    "for file in Path(pdf_folder).iterdir():\n",
    "\n",
    "    date_of_motion = re.sub(r\"\\b(meeting-mins-pdfs\\\\|Finance Committee Meeting Minutes.pdf|)\\b\", \"\",str(file).strip())\n",
    "   \n",
    "    if file.is_file():\n",
    "        \n",
    "        text = text_from_pdf(str(file))\n",
    "        motions = find_motions(text)\n",
    "        details = find_motion_details(motions, date_of_motion.strip())\n",
    "\n",
    "        all_motions_together.extend(details)\n",
    "\n",
    "df = pd.DataFrame(all_motions_together)\n",
    "\n",
    "pd.concat([df.head(10), df.tail(10)])\n"
   ]
  },
  {
   "cell_type": "markdown",
   "id": "e155c352-0f65-4e84-844a-b4990a80ca4c",
   "metadata": {},
   "source": [
    "### Filtering out inaccurately normalized names\n",
    "Fuzzy match has some trouble with acronyms and sometimes other issues with the earlier parsing. This displays values which have below a certain level of normalization accuracy so that we can manually fix them. This will show up, from least to greatest, the names that have below 90 accuracy."
   ]
  },
  {
   "cell_type": "code",
   "execution_count": null,
   "id": "280a1984-f2a0-4df0-bdf3-cc0dfc2f2516",
   "metadata": {
    "editable": true,
    "slideshow": {
     "slide_type": ""
    },
    "tags": []
   },
   "outputs": [],
   "source": [
    "filtered = df[df['Normalization Accuracy'] <= 90]\n",
    "\n",
    "pd.set_option('display.max_rows', None)\n",
    "\n",
    "filtered.sort_values(by=\"Normalization Accuracy\", inplace=False)"
   ]
  },
  {
   "cell_type": "code",
   "execution_count": null,
   "id": "03b92d9b-5fe4-42e3-8dad-173f8d414f33",
   "metadata": {
    "editable": true,
    "slideshow": {
     "slide_type": ""
    },
    "tags": []
   },
   "outputs": [],
   "source": [
    "df.loc[164, 'Club/Org Name'] = 'Mold Kits IVTU'\n",
    "df.loc[70 , 'Club/Org Name'] = 'Undergraduate Diversity and Inclusion in Physics'\n",
    "df.loc[226, 'Club/Org Name'] = 'BFOM A Capella'\n",
    "df.loc[270, 'Club/Org Name'] = 'BFOM A Capella'\n",
    "df.loc[103, 'Club/Org Name'] = 'Model United Nations'\n",
    "df.loc[262, 'Club/Org Name'] = 'Institute of Electrical and Electronics Engineers'\n",
    "df.loc[289, 'Club/Org Name'] = 'Institute of Electrical and Electronics Engineers'\n",
    "df.loc[42 , 'Club/Org Name'] = 'Move@UCSB'\n",
    "df.loc[241, 'Club/Org Name'] = 'VocalMotion'\n",
    "df.loc[162, 'Club/Org Name'] = 'AS External Vice President for Statewide Affairs'\n",
    "df.loc[4  , 'Club/Org Name'] = 'Muslim Student Association'\n",
    "df.loc[296, 'Club/Org Name'] = 'Muslim Student Association'\n",
    "df.loc[168, 'Club/Org Name'] = 'Women in Computer Science'\n",
    "df.loc[240, 'Club/Org Name'] = None\n",
    "df.loc[286, 'Club/Org Name'] = 'AS External Vice President for Statewide Affairs'\n",
    "df.loc[43 , 'Club/Org Name'] = 'AS External Vice President for Statewide Affairs'\n",
    "df.loc[298, 'Club/Org Name'] = 'Chemistry Club'\n",
    "df.loc[68 , 'Club/Org Name'] = 'Model United Nations'\n",
    "df.loc[157, 'Club/Org Name'] = 'Horizons Incentive Program'\n",
    "df.loc[297, 'Club/Org Name'] = 'Horizons Incentive Program'\n",
    "df.loc[59 , 'Club/Org Name'] = 'Horizons Incentive Program'\n",
    "df.loc[35 , 'Club/Org Name'] = 'BFOM A Capella'\n",
    "df.loc[112, 'Club/Org Name'] = None\n",
    "df.loc[247, 'Club/Org Name'] = None\n",
    "df.loc[126, 'Club/Org Name'] = None\n",
    "df.loc[51 , 'Club/Org Name'] = 'American Institute of Chemical Engineers'\n",
    "df.loc[127, 'Club/Org Name'] = 'BFOM A Capella'\n",
    "df.loc[149, 'Club/Org Name'] = 'BFOM A Capella'\n",
    "df.loc[128, 'Club/Org Name'] = 'AS Rent Support Program'\n",
    "df.loc[288, 'Club/Org Name'] = 'Dance Team'\n",
    "df.loc[301, 'Club/Org Name'] = 'Gaucho Creative Marketing Group'\n",
    "df.loc[120, 'Club/Org Name'] = 'Gaucho Creative Marketing Group'\n",
    "df.loc[79 , 'Club/Org Name'] = 'Collegiate Chapter of SAE International AKA Gaucho Racing'\n",
    "df.loc[254, 'Club/Org Name'] = None\n",
    "df.loc[158, 'Club/Org Name'] = 'Environmental Leadership Incubator'\n",
    "df.loc[147, 'Club/Org Name'] = 'Santa Barbara Case Club'\n",
    "df.loc[124, 'Club/Org Name'] = 'Club Tennis'\n",
    "df.loc[39 , 'Club/Org Name'] = 'Comunidad Latinx Graduacion'\n",
    "df.loc[163, 'Club/Org Name'] = 'Collegiate Chapter of SAE International AKA Gaucho Racing'\n",
    "\n",
    "df.loc[3, 'Funding'] = '5,444.24'\n",
    "\n",
    "df"
   ]
  },
  {
   "cell_type": "markdown",
   "id": "d58ebb3d-c546-4723-8237-ef402dab282b",
   "metadata": {
    "editable": true,
    "slideshow": {
     "slide_type": ""
    },
    "tags": []
   },
   "source": [
    "### Preparing final data\n",
    "Now we want to put all the data we have collected into a CSV for use on Power BI or later analysis if needed. We will exclude now irrelevant information such as the non-normalized names and the normalization accuracy. "
   ]
  },
  {
   "cell_type": "code",
   "execution_count": null,
   "id": "e7975853-70ad-42c5-9a3d-0909d2fc914f",
   "metadata": {
    "editable": true,
    "slideshow": {
     "slide_type": ""
    },
    "tags": []
   },
   "outputs": [],
   "source": [
    "final_df = df.drop(columns=['Non-normalized Name', 'Normalization Accuracy'])\n",
    "\n",
    "final_df.to_csv('org-funding-data.csv', index=False)\n",
    "\n",
    "final_df"
   ]
  }
 ],
 "metadata": {
  "kernelspec": {
   "display_name": "Python (analysis_venv)",
   "language": "python",
   "name": "analysis_venv"
  },
  "language_info": {
   "codemirror_mode": {
    "name": "ipython",
    "version": 3
   },
   "file_extension": ".py",
   "mimetype": "text/x-python",
   "name": "python",
   "nbconvert_exporter": "python",
   "pygments_lexer": "ipython3",
   "version": "3.13.3"
  }
 },
 "nbformat": 4,
 "nbformat_minor": 5
}
